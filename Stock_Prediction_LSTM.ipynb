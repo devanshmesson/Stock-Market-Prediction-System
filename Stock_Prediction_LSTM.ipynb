{
  "nbformat": 4,
  "nbformat_minor": 0,
  "metadata": {
    "colab": {
      "name": "Stock_Prediction_LSTM.ipynb",
      "provenance": [],
      "authorship_tag": "ABX9TyO/4pNkeh4Y+sQV1fVRy7Jd",
      "include_colab_link": true
    },
    "kernelspec": {
      "name": "python3",
      "display_name": "Python 3"
    },
    "language_info": {
      "name": "python"
    }
  },
  "cells": [
    {
      "cell_type": "markdown",
      "metadata": {
        "id": "view-in-github",
        "colab_type": "text"
      },
      "source": [
        "<a href=\"https://colab.research.google.com/github/devanshmesson/Stock-Market-Prediction-System/blob/master/Stock_Prediction_LSTM.ipynb\" target=\"_parent\"><img src=\"https://colab.research.google.com/assets/colab-badge.svg\" alt=\"Open In Colab\"/></a>"
      ]
    },
    {
      "cell_type": "code",
      "metadata": {
        "id": "hC185XmKpMDn"
      },
      "source": [
        "import pandas as pd\n",
        "import numpy as np\n",
        "%matplotlib inline\n",
        "import matplotlib.pyplot as plt\n",
        "import matplotlib\n",
        "from sklearn.preprocessing import MinMaxScaler\n",
        "from keras.layers import LSTM,Dense,Dropout\n",
        "from sklearn.model_selection import TimeSeriesSplit\n",
        "from sklearn.metrics import mean_squared_error, r2_score\n",
        "import matplotlib.dates as mdates\n",
        "from sklearn import linear_model"
      ],
      "execution_count": 17,
      "outputs": []
    },
    {
      "cell_type": "code",
      "metadata": {
        "id": "PndXhAH-pNat"
      },
      "source": [
        "df_final = pd.read_csv(\"app.csv\",na_values=['null'],index_col='Date',parse_dates=True,infer_datetime_format=True)"
      ],
      "execution_count": 18,
      "outputs": []
    },
    {
      "cell_type": "code",
      "metadata": {
        "colab": {
          "base_uri": "https://localhost:8080/",
          "height": 226
        },
        "id": "vrpFE6UtpQU-",
        "outputId": "8219ca0e-674e-456e-8cb0-9d3479699eb7"
      },
      "source": [
        "df_final.head()"
      ],
      "execution_count": 19,
      "outputs": [
        {
          "output_type": "execute_result",
          "data": {
            "text/html": [
              "<div>\n",
              "<style scoped>\n",
              "    .dataframe tbody tr th:only-of-type {\n",
              "        vertical-align: middle;\n",
              "    }\n",
              "\n",
              "    .dataframe tbody tr th {\n",
              "        vertical-align: top;\n",
              "    }\n",
              "\n",
              "    .dataframe thead th {\n",
              "        text-align: right;\n",
              "    }\n",
              "</style>\n",
              "<table border=\"1\" class=\"dataframe\">\n",
              "  <thead>\n",
              "    <tr style=\"text-align: right;\">\n",
              "      <th></th>\n",
              "      <th>Open</th>\n",
              "      <th>High</th>\n",
              "      <th>Low</th>\n",
              "      <th>Close</th>\n",
              "      <th>Adj Close</th>\n",
              "      <th>Volume</th>\n",
              "    </tr>\n",
              "    <tr>\n",
              "      <th>Date</th>\n",
              "      <th></th>\n",
              "      <th></th>\n",
              "      <th></th>\n",
              "      <th></th>\n",
              "      <th></th>\n",
              "      <th></th>\n",
              "    </tr>\n",
              "  </thead>\n",
              "  <tbody>\n",
              "    <tr>\n",
              "      <th>1990-01-02</th>\n",
              "      <td>1.258929</td>\n",
              "      <td>1.339286</td>\n",
              "      <td>1.250000</td>\n",
              "      <td>1.330357</td>\n",
              "      <td>1.081430</td>\n",
              "      <td>45799600</td>\n",
              "    </tr>\n",
              "    <tr>\n",
              "      <th>1990-01-03</th>\n",
              "      <td>1.357143</td>\n",
              "      <td>1.357143</td>\n",
              "      <td>1.339286</td>\n",
              "      <td>1.339286</td>\n",
              "      <td>1.088688</td>\n",
              "      <td>51998800</td>\n",
              "    </tr>\n",
              "    <tr>\n",
              "      <th>1990-01-04</th>\n",
              "      <td>1.366071</td>\n",
              "      <td>1.383929</td>\n",
              "      <td>1.330357</td>\n",
              "      <td>1.343750</td>\n",
              "      <td>1.092317</td>\n",
              "      <td>55378400</td>\n",
              "    </tr>\n",
              "    <tr>\n",
              "      <th>1990-01-05</th>\n",
              "      <td>1.348214</td>\n",
              "      <td>1.366071</td>\n",
              "      <td>1.321429</td>\n",
              "      <td>1.348214</td>\n",
              "      <td>1.095946</td>\n",
              "      <td>30828000</td>\n",
              "    </tr>\n",
              "    <tr>\n",
              "      <th>1990-01-08</th>\n",
              "      <td>1.339286</td>\n",
              "      <td>1.357143</td>\n",
              "      <td>1.321429</td>\n",
              "      <td>1.357143</td>\n",
              "      <td>1.103203</td>\n",
              "      <td>25393200</td>\n",
              "    </tr>\n",
              "  </tbody>\n",
              "</table>\n",
              "</div>"
            ],
            "text/plain": [
              "                Open      High       Low     Close  Adj Close    Volume\n",
              "Date                                                                   \n",
              "1990-01-02  1.258929  1.339286  1.250000  1.330357   1.081430  45799600\n",
              "1990-01-03  1.357143  1.357143  1.339286  1.339286   1.088688  51998800\n",
              "1990-01-04  1.366071  1.383929  1.330357  1.343750   1.092317  55378400\n",
              "1990-01-05  1.348214  1.366071  1.321429  1.348214   1.095946  30828000\n",
              "1990-01-08  1.339286  1.357143  1.321429  1.357143   1.103203  25393200"
            ]
          },
          "metadata": {
            "tags": []
          },
          "execution_count": 19
        }
      ]
    },
    {
      "cell_type": "code",
      "metadata": {
        "colab": {
          "base_uri": "https://localhost:8080/"
        },
        "id": "0E4J_YQIpSur",
        "outputId": "9237d9fb-a533-46cc-e94f-a7416264034f"
      },
      "source": [
        "df_final.shape"
      ],
      "execution_count": 20,
      "outputs": [
        {
          "output_type": "execute_result",
          "data": {
            "text/plain": [
              "(7579, 6)"
            ]
          },
          "metadata": {
            "tags": []
          },
          "execution_count": 20
        }
      ]
    },
    {
      "cell_type": "code",
      "metadata": {
        "colab": {
          "base_uri": "https://localhost:8080/",
          "height": 286
        },
        "id": "tkC7pfRKpW8o",
        "outputId": "d79008ec-bbb9-4f31-c6b5-1d11da43b1ec"
      },
      "source": [
        "df_final.describe()"
      ],
      "execution_count": 21,
      "outputs": [
        {
          "output_type": "execute_result",
          "data": {
            "text/html": [
              "<div>\n",
              "<style scoped>\n",
              "    .dataframe tbody tr th:only-of-type {\n",
              "        vertical-align: middle;\n",
              "    }\n",
              "\n",
              "    .dataframe tbody tr th {\n",
              "        vertical-align: top;\n",
              "    }\n",
              "\n",
              "    .dataframe thead th {\n",
              "        text-align: right;\n",
              "    }\n",
              "</style>\n",
              "<table border=\"1\" class=\"dataframe\">\n",
              "  <thead>\n",
              "    <tr style=\"text-align: right;\">\n",
              "      <th></th>\n",
              "      <th>Open</th>\n",
              "      <th>High</th>\n",
              "      <th>Low</th>\n",
              "      <th>Close</th>\n",
              "      <th>Adj Close</th>\n",
              "      <th>Volume</th>\n",
              "    </tr>\n",
              "  </thead>\n",
              "  <tbody>\n",
              "    <tr>\n",
              "      <th>count</th>\n",
              "      <td>7579.000000</td>\n",
              "      <td>7579.000000</td>\n",
              "      <td>7579.000000</td>\n",
              "      <td>7579.000000</td>\n",
              "      <td>7579.000000</td>\n",
              "      <td>7.579000e+03</td>\n",
              "    </tr>\n",
              "    <tr>\n",
              "      <th>mean</th>\n",
              "      <td>40.778490</td>\n",
              "      <td>41.166883</td>\n",
              "      <td>40.381736</td>\n",
              "      <td>40.789104</td>\n",
              "      <td>38.260195</td>\n",
              "      <td>9.975143e+07</td>\n",
              "    </tr>\n",
              "    <tr>\n",
              "      <th>std</th>\n",
              "      <td>61.037141</td>\n",
              "      <td>61.569601</td>\n",
              "      <td>60.539795</td>\n",
              "      <td>61.088480</td>\n",
              "      <td>59.389444</td>\n",
              "      <td>9.200897e+07</td>\n",
              "    </tr>\n",
              "    <tr>\n",
              "      <th>min</th>\n",
              "      <td>0.459821</td>\n",
              "      <td>0.473214</td>\n",
              "      <td>0.455357</td>\n",
              "      <td>0.462054</td>\n",
              "      <td>0.402033</td>\n",
              "      <td>5.992000e+05</td>\n",
              "    </tr>\n",
              "    <tr>\n",
              "      <th>25%</th>\n",
              "      <td>1.428571</td>\n",
              "      <td>1.459821</td>\n",
              "      <td>1.401786</td>\n",
              "      <td>1.428571</td>\n",
              "      <td>1.219695</td>\n",
              "      <td>4.017045e+07</td>\n",
              "    </tr>\n",
              "    <tr>\n",
              "      <th>50%</th>\n",
              "      <td>4.937143</td>\n",
              "      <td>5.065714</td>\n",
              "      <td>4.839286</td>\n",
              "      <td>4.967143</td>\n",
              "      <td>4.321916</td>\n",
              "      <td>7.026320e+07</td>\n",
              "    </tr>\n",
              "    <tr>\n",
              "      <th>75%</th>\n",
              "      <td>65.364998</td>\n",
              "      <td>65.761429</td>\n",
              "      <td>64.740715</td>\n",
              "      <td>65.225712</td>\n",
              "      <td>57.521214</td>\n",
              "      <td>1.262762e+08</td>\n",
              "    </tr>\n",
              "    <tr>\n",
              "      <th>max</th>\n",
              "      <td>324.450012</td>\n",
              "      <td>327.850006</td>\n",
              "      <td>321.380005</td>\n",
              "      <td>324.339996</td>\n",
              "      <td>324.339996</td>\n",
              "      <td>1.855410e+09</td>\n",
              "    </tr>\n",
              "  </tbody>\n",
              "</table>\n",
              "</div>"
            ],
            "text/plain": [
              "              Open         High  ...    Adj Close        Volume\n",
              "count  7579.000000  7579.000000  ...  7579.000000  7.579000e+03\n",
              "mean     40.778490    41.166883  ...    38.260195  9.975143e+07\n",
              "std      61.037141    61.569601  ...    59.389444  9.200897e+07\n",
              "min       0.459821     0.473214  ...     0.402033  5.992000e+05\n",
              "25%       1.428571     1.459821  ...     1.219695  4.017045e+07\n",
              "50%       4.937143     5.065714  ...     4.321916  7.026320e+07\n",
              "75%      65.364998    65.761429  ...    57.521214  1.262762e+08\n",
              "max     324.450012   327.850006  ...   324.339996  1.855410e+09\n",
              "\n",
              "[8 rows x 6 columns]"
            ]
          },
          "metadata": {
            "tags": []
          },
          "execution_count": 21
        }
      ]
    },
    {
      "cell_type": "code",
      "metadata": {
        "colab": {
          "base_uri": "https://localhost:8080/"
        },
        "id": "L0CrvEWhpXrd",
        "outputId": "44bd9dbe-c7ca-4e57-f4d9-07fff930bf2f"
      },
      "source": [
        "df_final.isnull().values.any()"
      ],
      "execution_count": 22,
      "outputs": [
        {
          "output_type": "execute_result",
          "data": {
            "text/plain": [
              "False"
            ]
          },
          "metadata": {
            "tags": []
          },
          "execution_count": 22
        }
      ]
    },
    {
      "cell_type": "code",
      "metadata": {
        "colab": {
          "base_uri": "https://localhost:8080/",
          "height": 286
        },
        "id": "4JHFnTNVpaQl",
        "outputId": "9050328f-8c6f-4964-b13f-8fb1b30a982c"
      },
      "source": [
        "df_final['Adj Close'].plot()"
      ],
      "execution_count": 23,
      "outputs": [
        {
          "output_type": "execute_result",
          "data": {
            "text/plain": [
              "<matplotlib.axes._subplots.AxesSubplot at 0x7f323ddbf150>"
            ]
          },
          "metadata": {
            "tags": []
          },
          "execution_count": 23
        },
        {
          "output_type": "display_data",
          "data": {
            "image/png": "[encoded data removed]",
            "text/plain": [
              "<Figure size 432x288 with 1 Axes>"
            ]
          },
          "metadata": {
            "tags": [],
            "needs_background": "light"
          }
        }
      ]
    },
    {
      "cell_type": "code",
      "metadata": {
        "id": "4EQc46ixpcmy"
      },
      "source": [
        "X=df_final.drop(['Adj Close'],axis=1)\n",
        "X=X.drop(['Close'],axis=1)"
      ],
      "execution_count": 24,
      "outputs": []
    },
    {
      "cell_type": "code",
      "metadata": {
        "colab": {
          "base_uri": "https://localhost:8080/",
          "height": 363
        },
        "id": "UGwHMHtrpfht",
        "outputId": "eb694631-4dbd-473b-aaa3-26375845903d"
      },
      "source": [
        "X.corrwith(df_final['Adj Close']).plot.bar(\n",
        "        figsize = (10, 4), title = \"Correlation with Adj Close\", fontsize = 20,\n",
        "        rot = 90, grid = True)"
      ],
      "execution_count": 25,
      "outputs": [
        {
          "output_type": "execute_result",
          "data": {
            "text/plain": [
              "<matplotlib.axes._subplots.AxesSubplot at 0x7f323dd79510>"
            ]
          },
          "metadata": {
            "tags": []
          },
          "execution_count": 25
        },
        {
          "output_type": "display_data",
          "data": {
            "image/png": "[encoded data removed]",
            "text/plain": [
              "<Figure size 720x288 with 1 Axes>"
            ]
          },
          "metadata": {
            "tags": [],
            "needs_background": "light"
          }
        }
      ]
    },
    {
      "cell_type": "code",
      "metadata": {
        "colab": {
          "base_uri": "https://localhost:8080/",
          "height": 226
        },
        "id": "lo7iO8Y5piFt",
        "outputId": "2f93dfe6-82c6-4e5d-c5a2-64aadd3eda8b"
      },
      "source": [
        "test = df_final\n",
        "# Target column\n",
        "target_adj_close = pd.DataFrame(test['Adj Close'])\n",
        "display(test.head())"
      ],
      "execution_count": 26,
      "outputs": [
        {
          "output_type": "display_data",
          "data": {
            "text/html": [
              "<div>\n",
              "<style scoped>\n",
              "    .dataframe tbody tr th:only-of-type {\n",
              "        vertical-align: middle;\n",
              "    }\n",
              "\n",
              "    .dataframe tbody tr th {\n",
              "        vertical-align: top;\n",
              "    }\n",
              "\n",
              "    .dataframe thead th {\n",
              "        text-align: right;\n",
              "    }\n",
              "</style>\n",
              "<table border=\"1\" class=\"dataframe\">\n",
              "  <thead>\n",
              "    <tr style=\"text-align: right;\">\n",
              "      <th></th>\n",
              "      <th>Open</th>\n",
              "      <th>High</th>\n",
              "      <th>Low</th>\n",
              "      <th>Close</th>\n",
              "      <th>Adj Close</th>\n",
              "      <th>Volume</th>\n",
              "    </tr>\n",
              "    <tr>\n",
              "      <th>Date</th>\n",
              "      <th></th>\n",
              "      <th></th>\n",
              "      <th></th>\n",
              "      <th></th>\n",
              "      <th></th>\n",
              "      <th></th>\n",
              "    </tr>\n",
              "  </thead>\n",
              "  <tbody>\n",
              "    <tr>\n",
              "      <th>1990-01-02</th>\n",
              "      <td>1.258929</td>\n",
              "      <td>1.339286</td>\n",
              "      <td>1.250000</td>\n",
              "      <td>1.330357</td>\n",
              "      <td>1.081430</td>\n",
              "      <td>45799600</td>\n",
              "    </tr>\n",
              "    <tr>\n",
              "      <th>1990-01-03</th>\n",
              "      <td>1.357143</td>\n",
              "      <td>1.357143</td>\n",
              "      <td>1.339286</td>\n",
              "      <td>1.339286</td>\n",
              "      <td>1.088688</td>\n",
              "      <td>51998800</td>\n",
              "    </tr>\n",
              "    <tr>\n",
              "      <th>1990-01-04</th>\n",
              "      <td>1.366071</td>\n",
              "      <td>1.383929</td>\n",
              "      <td>1.330357</td>\n",
              "      <td>1.343750</td>\n",
              "      <td>1.092317</td>\n",
              "      <td>55378400</td>\n",
              "    </tr>\n",
              "    <tr>\n",
              "      <th>1990-01-05</th>\n",
              "      <td>1.348214</td>\n",
              "      <td>1.366071</td>\n",
              "      <td>1.321429</td>\n",
              "      <td>1.348214</td>\n",
              "      <td>1.095946</td>\n",
              "      <td>30828000</td>\n",
              "    </tr>\n",
              "    <tr>\n",
              "      <th>1990-01-08</th>\n",
              "      <td>1.339286</td>\n",
              "      <td>1.357143</td>\n",
              "      <td>1.321429</td>\n",
              "      <td>1.357143</td>\n",
              "      <td>1.103203</td>\n",
              "      <td>25393200</td>\n",
              "    </tr>\n",
              "  </tbody>\n",
              "</table>\n",
              "</div>"
            ],
            "text/plain": [
              "                Open      High       Low     Close  Adj Close    Volume\n",
              "Date                                                                   \n",
              "1990-01-02  1.258929  1.339286  1.250000  1.330357   1.081430  45799600\n",
              "1990-01-03  1.357143  1.357143  1.339286  1.339286   1.088688  51998800\n",
              "1990-01-04  1.366071  1.383929  1.330357  1.343750   1.092317  55378400\n",
              "1990-01-05  1.348214  1.366071  1.321429  1.348214   1.095946  30828000\n",
              "1990-01-08  1.339286  1.357143  1.321429  1.357143   1.103203  25393200"
            ]
          },
          "metadata": {
            "tags": []
          }
        }
      ]
    },
    {
      "cell_type": "code",
      "metadata": {
        "id": "LPb9OCeqpkms"
      },
      "source": [
        "# selecting Feature Columns\n",
        "feature_columns = ['Open', 'High', 'Low', 'Volume']"
      ],
      "execution_count": 27,
      "outputs": []
    },
    {
      "cell_type": "code",
      "metadata": {
        "colab": {
          "base_uri": "https://localhost:8080/",
          "height": 226
        },
        "id": "JA7vNjKGpoVh",
        "outputId": "47747ed0-f203-41e0-f79f-73e01093ea0b"
      },
      "source": [
        "from sklearn.preprocessing import MinMaxScaler\n",
        "scaler = MinMaxScaler()\n",
        "feature_minmax_transform_data = scaler.fit_transform(test[feature_columns])\n",
        "feature_minmax_transform = pd.DataFrame(columns=feature_columns, data=feature_minmax_transform_data, index=test.index)\n",
        "feature_minmax_transform.head()"
      ],
      "execution_count": 28,
      "outputs": [
        {
          "output_type": "execute_result",
          "data": {
            "text/html": [
              "<div>\n",
              "<style scoped>\n",
              "    .dataframe tbody tr th:only-of-type {\n",
              "        vertical-align: middle;\n",
              "    }\n",
              "\n",
              "    .dataframe tbody tr th {\n",
              "        vertical-align: top;\n",
              "    }\n",
              "\n",
              "    .dataframe thead th {\n",
              "        text-align: right;\n",
              "    }\n",
              "</style>\n",
              "<table border=\"1\" class=\"dataframe\">\n",
              "  <thead>\n",
              "    <tr style=\"text-align: right;\">\n",
              "      <th></th>\n",
              "      <th>Open</th>\n",
              "      <th>High</th>\n",
              "      <th>Low</th>\n",
              "      <th>Volume</th>\n",
              "    </tr>\n",
              "    <tr>\n",
              "      <th>Date</th>\n",
              "      <th></th>\n",
              "      <th></th>\n",
              "      <th></th>\n",
              "      <th></th>\n",
              "    </tr>\n",
              "  </thead>\n",
              "  <tbody>\n",
              "    <tr>\n",
              "      <th>1990-01-02</th>\n",
              "      <td>0.002466</td>\n",
              "      <td>0.002645</td>\n",
              "      <td>0.002476</td>\n",
              "      <td>0.024369</td>\n",
              "    </tr>\n",
              "    <tr>\n",
              "      <th>1990-01-03</th>\n",
              "      <td>0.002770</td>\n",
              "      <td>0.002700</td>\n",
              "      <td>0.002754</td>\n",
              "      <td>0.027712</td>\n",
              "    </tr>\n",
              "    <tr>\n",
              "      <th>1990-01-04</th>\n",
              "      <td>0.002797</td>\n",
              "      <td>0.002782</td>\n",
              "      <td>0.002726</td>\n",
              "      <td>0.029534</td>\n",
              "    </tr>\n",
              "    <tr>\n",
              "      <th>1990-01-05</th>\n",
              "      <td>0.002742</td>\n",
              "      <td>0.002727</td>\n",
              "      <td>0.002699</td>\n",
              "      <td>0.016298</td>\n",
              "    </tr>\n",
              "    <tr>\n",
              "      <th>1990-01-08</th>\n",
              "      <td>0.002714</td>\n",
              "      <td>0.002700</td>\n",
              "      <td>0.002699</td>\n",
              "      <td>0.013367</td>\n",
              "    </tr>\n",
              "  </tbody>\n",
              "</table>\n",
              "</div>"
            ],
            "text/plain": [
              "                Open      High       Low    Volume\n",
              "Date                                              \n",
              "1990-01-02  0.002466  0.002645  0.002476  0.024369\n",
              "1990-01-03  0.002770  0.002700  0.002754  0.027712\n",
              "1990-01-04  0.002797  0.002782  0.002726  0.029534\n",
              "1990-01-05  0.002742  0.002727  0.002699  0.016298\n",
              "1990-01-08  0.002714  0.002700  0.002699  0.013367"
            ]
          },
          "metadata": {
            "tags": []
          },
          "execution_count": 28
        }
      ]
    },
    {
      "cell_type": "code",
      "metadata": {
        "colab": {
          "base_uri": "https://localhost:8080/",
          "height": 972
        },
        "id": "lw3XSTktprYR",
        "outputId": "fc16aa34-bae3-4db8-ef6e-89a5702d1b0b"
      },
      "source": [
        "display(feature_minmax_transform.head())\n",
        "print('Shape of features : ', feature_minmax_transform.shape)\n",
        "print('Shape of target : ', target_adj_close.shape)\n",
        "\n",
        "# Shift target array because we want to predict the n + 1 day value\n",
        "\n",
        "\n",
        "target_adj_close = target_adj_close.shift(-1)\n",
        "validation_y = target_adj_close[-90:-1]\n",
        "target_adj_close = target_adj_close[:-90]\n",
        "\n",
        "# Taking last 90 rows of data to be validation set\n",
        "validation_X = feature_minmax_transform[-90:-1]\n",
        "feature_minmax_transform = feature_minmax_transform[:-90]\n",
        "display(validation_X.tail())\n",
        "display(validation_y.tail())\n",
        "\n",
        "print(\"\\n -----After process------ \\n\")\n",
        "print('Shape of features : ', feature_minmax_transform.shape)\n",
        "print('Shape of target : ', target_adj_close.shape)\n",
        "display(target_adj_close.tail())"
      ],
      "execution_count": 29,
      "outputs": [
        {
          "output_type": "display_data",
          "data": {
            "text/html": [
              "<div>\n",
              "<style scoped>\n",
              "    .dataframe tbody tr th:only-of-type {\n",
              "        vertical-align: middle;\n",
              "    }\n",
              "\n",
              "    .dataframe tbody tr th {\n",
              "        vertical-align: top;\n",
              "    }\n",
              "\n",
              "    .dataframe thead th {\n",
              "        text-align: right;\n",
              "    }\n",
              "</style>\n",
              "<table border=\"1\" class=\"dataframe\">\n",
              "  <thead>\n",
              "    <tr style=\"text-align: right;\">\n",
              "      <th></th>\n",
              "      <th>Open</th>\n",
              "      <th>High</th>\n",
              "      <th>Low</th>\n",
              "      <th>Volume</th>\n",
              "    </tr>\n",
              "    <tr>\n",
              "      <th>Date</th>\n",
              "      <th></th>\n",
              "      <th></th>\n",
              "      <th></th>\n",
              "      <th></th>\n",
              "    </tr>\n",
              "  </thead>\n",
              "  <tbody>\n",
              "    <tr>\n",
              "      <th>1990-01-02</th>\n",
              "      <td>0.002466</td>\n",
              "      <td>0.002645</td>\n",
              "      <td>0.002476</td>\n",
              "      <td>0.024369</td>\n",
              "    </tr>\n",
              "    <tr>\n",
              "      <th>1990-01-03</th>\n",
              "      <td>0.002770</td>\n",
              "      <td>0.002700</td>\n",
              "      <td>0.002754</td>\n",
              "      <td>0.027712</td>\n",
              "    </tr>\n",
              "    <tr>\n",
              "      <th>1990-01-04</th>\n",
              "      <td>0.002797</td>\n",
              "      <td>0.002782</td>\n",
              "      <td>0.002726</td>\n",
              "      <td>0.029534</td>\n",
              "    </tr>\n",
              "    <tr>\n",
              "      <th>1990-01-05</th>\n",
              "      <td>0.002742</td>\n",
              "      <td>0.002727</td>\n",
              "      <td>0.002699</td>\n",
              "      <td>0.016298</td>\n",
              "    </tr>\n",
              "    <tr>\n",
              "      <th>1990-01-08</th>\n",
              "      <td>0.002714</td>\n",
              "      <td>0.002700</td>\n",
              "      <td>0.002699</td>\n",
              "      <td>0.013367</td>\n",
              "    </tr>\n",
              "  </tbody>\n",
              "</table>\n",
              "</div>"
            ],
            "text/plain": [
              "                Open      High       Low    Volume\n",
              "Date                                              \n",
              "1990-01-02  0.002466  0.002645  0.002476  0.024369\n",
              "1990-01-03  0.002770  0.002700  0.002754  0.027712\n",
              "1990-01-04  0.002797  0.002782  0.002726  0.029534\n",
              "1990-01-05  0.002742  0.002727  0.002699  0.016298\n",
              "1990-01-08  0.002714  0.002700  0.002699  0.013367"
            ]
          },
          "metadata": {
            "tags": []
          }
        },
        {
          "output_type": "stream",
          "text": [
            "Shape of features :  (7579, 4)\n",
            "Shape of target :  (7579, 1)\n"
          ],
          "name": "stdout"
        },
        {
          "output_type": "display_data",
          "data": {
            "text/html": [
              "<div>\n",
              "<style scoped>\n",
              "    .dataframe tbody tr th:only-of-type {\n",
              "        vertical-align: middle;\n",
              "    }\n",
              "\n",
              "    .dataframe tbody tr th {\n",
              "        vertical-align: top;\n",
              "    }\n",
              "\n",
              "    .dataframe thead th {\n",
              "        text-align: right;\n",
              "    }\n",
              "</style>\n",
              "<table border=\"1\" class=\"dataframe\">\n",
              "  <thead>\n",
              "    <tr style=\"text-align: right;\">\n",
              "      <th></th>\n",
              "      <th>Open</th>\n",
              "      <th>High</th>\n",
              "      <th>Low</th>\n",
              "      <th>Volume</th>\n",
              "    </tr>\n",
              "    <tr>\n",
              "      <th>Date</th>\n",
              "      <th></th>\n",
              "      <th></th>\n",
              "      <th></th>\n",
              "      <th></th>\n",
              "    </tr>\n",
              "  </thead>\n",
              "  <tbody>\n",
              "    <tr>\n",
              "      <th>2020-01-23</th>\n",
              "      <td>0.979845</td>\n",
              "      <td>0.974677</td>\n",
              "      <td>0.982145</td>\n",
              "      <td>0.013758</td>\n",
              "    </tr>\n",
              "    <tr>\n",
              "      <th>2020-01-24</th>\n",
              "      <td>0.987037</td>\n",
              "      <td>0.986193</td>\n",
              "      <td>0.987972</td>\n",
              "      <td>0.019428</td>\n",
              "    </tr>\n",
              "    <tr>\n",
              "      <th>2020-01-27</th>\n",
              "      <td>0.955585</td>\n",
              "      <td>0.950882</td>\n",
              "      <td>0.948586</td>\n",
              "      <td>0.021504</td>\n",
              "    </tr>\n",
              "    <tr>\n",
              "      <th>2020-01-28</th>\n",
              "      <td>0.963425</td>\n",
              "      <td>0.971134</td>\n",
              "      <td>0.971364</td>\n",
              "      <td>0.021544</td>\n",
              "    </tr>\n",
              "    <tr>\n",
              "      <th>2020-01-29</th>\n",
              "      <td>1.000000</td>\n",
              "      <td>1.000000</td>\n",
              "      <td>1.000000</td>\n",
              "      <td>0.028821</td>\n",
              "    </tr>\n",
              "  </tbody>\n",
              "</table>\n",
              "</div>"
            ],
            "text/plain": [
              "                Open      High       Low    Volume\n",
              "Date                                              \n",
              "2020-01-23  0.979845  0.974677  0.982145  0.013758\n",
              "2020-01-24  0.987037  0.986193  0.987972  0.019428\n",
              "2020-01-27  0.955585  0.950882  0.948586  0.021504\n",
              "2020-01-28  0.963425  0.971134  0.971364  0.021544\n",
              "2020-01-29  1.000000  1.000000  1.000000  0.028821"
            ]
          },
          "metadata": {
            "tags": []
          }
        },
        {
          "output_type": "display_data",
          "data": {
            "text/html": [
              "<div>\n",
              "<style scoped>\n",
              "    .dataframe tbody tr th:only-of-type {\n",
              "        vertical-align: middle;\n",
              "    }\n",
              "\n",
              "    .dataframe tbody tr th {\n",
              "        vertical-align: top;\n",
              "    }\n",
              "\n",
              "    .dataframe thead th {\n",
              "        text-align: right;\n",
              "    }\n",
              "</style>\n",
              "<table border=\"1\" class=\"dataframe\">\n",
              "  <thead>\n",
              "    <tr style=\"text-align: right;\">\n",
              "      <th></th>\n",
              "      <th>Adj Close</th>\n",
              "    </tr>\n",
              "    <tr>\n",
              "      <th>Date</th>\n",
              "      <th></th>\n",
              "    </tr>\n",
              "  </thead>\n",
              "  <tbody>\n",
              "    <tr>\n",
              "      <th>2020-01-23</th>\n",
              "      <td>318.309998</td>\n",
              "    </tr>\n",
              "    <tr>\n",
              "      <th>2020-01-24</th>\n",
              "      <td>308.950012</td>\n",
              "    </tr>\n",
              "    <tr>\n",
              "      <th>2020-01-27</th>\n",
              "      <td>317.690002</td>\n",
              "    </tr>\n",
              "    <tr>\n",
              "      <th>2020-01-28</th>\n",
              "      <td>324.339996</td>\n",
              "    </tr>\n",
              "    <tr>\n",
              "      <th>2020-01-29</th>\n",
              "      <td>323.869995</td>\n",
              "    </tr>\n",
              "  </tbody>\n",
              "</table>\n",
              "</div>"
            ],
            "text/plain": [
              "             Adj Close\n",
              "Date                  \n",
              "2020-01-23  318.309998\n",
              "2020-01-24  308.950012\n",
              "2020-01-27  317.690002\n",
              "2020-01-28  324.339996\n",
              "2020-01-29  323.869995"
            ]
          },
          "metadata": {
            "tags": []
          }
        },
        {
          "output_type": "stream",
          "text": [
            "\n",
            " -----After process------ \n",
            "\n",
            "Shape of features :  (7489, 4)\n",
            "Shape of target :  (7489, 1)\n"
          ],
          "name": "stdout"
        },
        {
          "output_type": "display_data",
          "data": {
            "text/html": [
              "<div>\n",
              "<style scoped>\n",
              "    .dataframe tbody tr th:only-of-type {\n",
              "        vertical-align: middle;\n",
              "    }\n",
              "\n",
              "    .dataframe tbody tr th {\n",
              "        vertical-align: top;\n",
              "    }\n",
              "\n",
              "    .dataframe thead th {\n",
              "        text-align: right;\n",
              "    }\n",
              "</style>\n",
              "<table border=\"1\" class=\"dataframe\">\n",
              "  <thead>\n",
              "    <tr style=\"text-align: right;\">\n",
              "      <th></th>\n",
              "      <th>Adj Close</th>\n",
              "    </tr>\n",
              "    <tr>\n",
              "      <th>Date</th>\n",
              "      <th></th>\n",
              "    </tr>\n",
              "  </thead>\n",
              "  <tbody>\n",
              "    <tr>\n",
              "      <th>2019-09-16</th>\n",
              "      <td>220.039383</td>\n",
              "    </tr>\n",
              "    <tr>\n",
              "      <th>2019-09-17</th>\n",
              "      <td>222.103195</td>\n",
              "    </tr>\n",
              "    <tr>\n",
              "      <th>2019-09-18</th>\n",
              "      <td>220.298615</td>\n",
              "    </tr>\n",
              "    <tr>\n",
              "      <th>2019-09-19</th>\n",
              "      <td>217.078262</td>\n",
              "    </tr>\n",
              "    <tr>\n",
              "      <th>2019-09-20</th>\n",
              "      <td>218.065308</td>\n",
              "    </tr>\n",
              "  </tbody>\n",
              "</table>\n",
              "</div>"
            ],
            "text/plain": [
              "             Adj Close\n",
              "Date                  \n",
              "2019-09-16  220.039383\n",
              "2019-09-17  222.103195\n",
              "2019-09-18  220.298615\n",
              "2019-09-19  217.078262\n",
              "2019-09-20  218.065308"
            ]
          },
          "metadata": {
            "tags": []
          }
        }
      ]
    },
    {
      "cell_type": "code",
      "metadata": {
        "id": "jYqoRs_4pv06"
      },
      "source": [
        "s_split= TimeSeriesSplit(n_splits=10)\n",
        "for train_index, test_index in s_split.split(feature_minmax_transform):\n",
        "        X_train, X_test = feature_minmax_transform[:len(train_index)], feature_minmax_transform[len(train_index): (len(train_index)+len(test_index))]\n",
        "        y_train, y_test = target_adj_close[:len(train_index)].values.ravel(), target_adj_close[len(train_index): (len(train_index)+len(test_index))].values.ravel()"
      ],
      "execution_count": 30,
      "outputs": []
    },
    {
      "cell_type": "code",
      "metadata": {
        "colab": {
          "base_uri": "https://localhost:8080/"
        },
        "id": "IfFRVlq-pyxp",
        "outputId": "9007c00c-f29a-4d48-f2a8-159c0809c6a3"
      },
      "source": [
        "X_train.shape"
      ],
      "execution_count": 31,
      "outputs": [
        {
          "output_type": "execute_result",
          "data": {
            "text/plain": [
              "(6809, 4)"
            ]
          },
          "metadata": {
            "tags": []
          },
          "execution_count": 31
        }
      ]
    },
    {
      "cell_type": "code",
      "metadata": {
        "colab": {
          "base_uri": "https://localhost:8080/"
        },
        "id": "O8w_F8pmp1Ef",
        "outputId": "b31958db-eed6-4fc6-9205-fc93392a5c20"
      },
      "source": [
        "X_test.shape"
      ],
      "execution_count": 32,
      "outputs": [
        {
          "output_type": "execute_result",
          "data": {
            "text/plain": [
              "(680, 4)"
            ]
          },
          "metadata": {
            "tags": []
          },
          "execution_count": 32
        }
      ]
    },
    {
      "cell_type": "code",
      "metadata": {
        "colab": {
          "base_uri": "https://localhost:8080/"
        },
        "id": "p8LfSbhDp4za",
        "outputId": "478de646-2a96-4899-941a-971338604b98"
      },
      "source": [
        "y_train.shape"
      ],
      "execution_count": 33,
      "outputs": [
        {
          "output_type": "execute_result",
          "data": {
            "text/plain": [
              "(6809,)"
            ]
          },
          "metadata": {
            "tags": []
          },
          "execution_count": 33
        }
      ]
    },
    {
      "cell_type": "code",
      "metadata": {
        "colab": {
          "base_uri": "https://localhost:8080/"
        },
        "id": "3n_tYE2kp5ng",
        "outputId": "4c2b3c47-5e09-41d8-a6d6-7eb1daa07a9d"
      },
      "source": [
        "y_test.shape"
      ],
      "execution_count": 34,
      "outputs": [
        {
          "output_type": "execute_result",
          "data": {
            "text/plain": [
              "(680,)"
            ]
          },
          "metadata": {
            "tags": []
          },
          "execution_count": 34
        }
      ]
    },
    {
      "cell_type": "code",
      "metadata": {
        "id": "fJ8KNbyXp7eH"
      },
      "source": [
        "def validate_result(model, model_name):\n",
        "    predicted = model.predict(validation_X)\n",
        "    RSME_score = np.sqrt(mean_squared_error(validation_y, predicted))\n",
        "    print('RMSE: ', RSME_score)\n",
        "    \n",
        "    R2_score = r2_score(validation_y, predicted)\n",
        "    print('R2 score: ', R2_score)\n",
        "\n",
        "    plt.plot(validation_y.index, predicted,'r', label='Predict')\n",
        "    plt.plot(validation_y.index, validation_y,'b', label='Actual')\n",
        "    plt.ylabel('Price')\n",
        "    plt.gca().xaxis.set_major_formatter(mdates.DateFormatter('%Y-%m-%d'))\n",
        "    plt.gca().xaxis.set_major_locator(mdates.MonthLocator())\n",
        "    plt.title(model_name + ' Predict vs Actual')\n",
        "    plt.legend(loc='upper right')\n",
        "    plt.show()"
      ],
      "execution_count": 35,
      "outputs": []
    },
    {
      "cell_type": "code",
      "metadata": {
        "colab": {
          "base_uri": "https://localhost:8080/",
          "height": 314
        },
        "id": "XkGLq8o5p-fL",
        "outputId": "41b13293-cc8c-424f-f8d8-dac476abd292"
      },
      "source": [
        "from sklearn.tree import DecisionTreeRegressor\n",
        "\n",
        "dt = DecisionTreeRegressor(random_state=0)\n",
        "\n",
        "benchmark_dt=dt.fit(X_train, y_train)\n",
        "\n",
        "validate_result(benchmark_dt, 'Decision Tree Regression')"
      ],
      "execution_count": 36,
      "outputs": [
        {
          "output_type": "stream",
          "text": [
            "RMSE:  151.6219904371805\n",
            "R2 score:  -23.427275928632863\n"
          ],
          "name": "stdout"
        },
        {
          "output_type": "display_data",
          "data": {
            "image/png": "[encoded data removed]",
            "text/plain": [
              "<Figure size 432x288 with 1 Axes>"
            ]
          },
          "metadata": {
            "tags": [],
            "needs_background": "light"
          }
        }
      ]
    },
    {
      "cell_type": "code",
      "metadata": {
        "id": "F1wKtQtdqBOd"
      },
      "source": [
        "X_train =np.array(X_train)\n",
        "X_test =np.array(X_test)\n",
        "\n",
        "X_tr_t = X_train.reshape(X_train.shape[0], 1, X_train.shape[1])\n",
        "X_tst_t = X_test.reshape(X_test.shape[0], 1, X_test.shape[1])"
      ],
      "execution_count": 37,
      "outputs": []
    },
    {
      "cell_type": "code",
      "metadata": {
        "colab": {
          "base_uri": "https://localhost:8080/"
        },
        "id": "EKsoy0oAqElj",
        "outputId": "bcdd95bd-d2ac-4afb-a4d6-c9951bb140eb"
      },
      "source": [
        "from keras.models import Sequential\n",
        "from keras.layers import Dense\n",
        "import keras.backend as K\n",
        "from keras.callbacks import EarlyStopping\n",
        "from keras.optimizers import Adam\n",
        "from keras.models import load_model\n",
        "from keras.layers import LSTM\n",
        "K.clear_session()\n",
        "model_lstm = Sequential()\n",
        "model_lstm.add(LSTM(16, input_shape=(1, X_train.shape[1]), activation='relu', return_sequences=False))\n",
        "model_lstm.add(Dense(1))\n",
        "model_lstm.compile(loss='mean_squared_error', optimizer='adam')\n",
        "early_stop = EarlyStopping(monitor='loss', patience=5, verbose=1)\n",
        "history_model_lstm = model_lstm.fit(X_tr_t, y_train, epochs=200, batch_size=8, verbose=1, shuffle=False, callbacks=[early_stop])"
      ],
      "execution_count": 38,
      "outputs": [
        {
          "output_type": "stream",
          "text": [
            "Epoch 1/200\n",
            "852/852 [==============================] - 3s 2ms/step - loss: 86.6268\n",
            "Epoch 2/200\n",
            "852/852 [==============================] - 1s 2ms/step - loss: 193.8685\n",
            "Epoch 3/200\n",
            "852/852 [==============================] - 1s 2ms/step - loss: 264.7320\n",
            "Epoch 4/200\n",
            "852/852 [==============================] - 1s 2ms/step - loss: 264.1911\n",
            "Epoch 5/200\n",
            "852/852 [==============================] - 1s 2ms/step - loss: 213.3070\n",
            "Epoch 6/200\n",
            "852/852 [==============================] - 1s 2ms/step - loss: 145.3718\n",
            "Epoch 7/200\n",
            "852/852 [==============================] - 1s 2ms/step - loss: 82.1202\n",
            "Epoch 8/200\n",
            "852/852 [==============================] - 1s 2ms/step - loss: 36.8690\n",
            "Epoch 9/200\n",
            "852/852 [==============================] - 1s 2ms/step - loss: 12.4137\n",
            "Epoch 10/200\n",
            "852/852 [==============================] - 1s 2ms/step - loss: 3.5279\n",
            "Epoch 11/200\n",
            "852/852 [==============================] - 1s 2ms/step - loss: 1.2896\n",
            "Epoch 12/200\n",
            "852/852 [==============================] - 1s 2ms/step - loss: 0.8180\n",
            "Epoch 13/200\n",
            "852/852 [==============================] - 1s 2ms/step - loss: 0.7246\n",
            "Epoch 14/200\n",
            "852/852 [==============================] - 1s 2ms/step - loss: 0.7420\n",
            "Epoch 15/200\n",
            "852/852 [==============================] - 1s 2ms/step - loss: 0.8015\n",
            "Epoch 16/200\n",
            "852/852 [==============================] - 1s 2ms/step - loss: 0.8712\n",
            "Epoch 17/200\n",
            "852/852 [==============================] - 1s 2ms/step - loss: 0.9342\n",
            "Epoch 18/200\n",
            "852/852 [==============================] - 1s 2ms/step - loss: 0.9855\n",
            "Epoch 19/200\n",
            "852/852 [==============================] - 1s 2ms/step - loss: 1.0241\n",
            "Epoch 20/200\n",
            "852/852 [==============================] - 1s 2ms/step - loss: 1.0517\n",
            "Epoch 21/200\n",
            "852/852 [==============================] - 1s 2ms/step - loss: 1.0696\n",
            "Epoch 22/200\n",
            "852/852 [==============================] - 1s 2ms/step - loss: 1.0804\n",
            "Epoch 23/200\n",
            "852/852 [==============================] - 1s 2ms/step - loss: 1.0856\n",
            "Epoch 24/200\n",
            "852/852 [==============================] - 1s 2ms/step - loss: 1.0861\n",
            "Epoch 25/200\n",
            "852/852 [==============================] - 1s 2ms/step - loss: 1.0830\n",
            "Epoch 26/200\n",
            "852/852 [==============================] - 1s 2ms/step - loss: 1.0776\n",
            "Epoch 27/200\n",
            "852/852 [==============================] - 1s 2ms/step - loss: 1.0702\n",
            "Epoch 28/200\n",
            "852/852 [==============================] - 1s 2ms/step - loss: 1.0616\n",
            "Epoch 29/200\n",
            "852/852 [==============================] - 1s 2ms/step - loss: 1.0519\n",
            "Epoch 30/200\n",
            "852/852 [==============================] - 1s 2ms/step - loss: 1.0419\n",
            "Epoch 31/200\n",
            "852/852 [==============================] - 1s 2ms/step - loss: 1.0310\n",
            "Epoch 32/200\n",
            "852/852 [==============================] - 1s 2ms/step - loss: 1.0198\n",
            "Epoch 33/200\n",
            "852/852 [==============================] - 1s 2ms/step - loss: 1.0084\n",
            "Epoch 34/200\n",
            "852/852 [==============================] - 1s 2ms/step - loss: 0.9970\n",
            "Epoch 35/200\n",
            "852/852 [==============================] - 1s 2ms/step - loss: 0.9856\n",
            "Epoch 36/200\n",
            "852/852 [==============================] - 1s 2ms/step - loss: 0.9745\n",
            "Epoch 37/200\n",
            "852/852 [==============================] - 1s 2ms/step - loss: 0.9631\n",
            "Epoch 38/200\n",
            "852/852 [==============================] - 1s 2ms/step - loss: 0.9521\n",
            "Epoch 39/200\n",
            "852/852 [==============================] - 1s 2ms/step - loss: 0.9408\n",
            "Epoch 40/200\n",
            "852/852 [==============================] - 1s 2ms/step - loss: 0.9300\n",
            "Epoch 41/200\n",
            "852/852 [==============================] - 1s 2ms/step - loss: 0.9192\n",
            "Epoch 42/200\n",
            "852/852 [==============================] - 2s 2ms/step - loss: 0.9087\n",
            "Epoch 43/200\n",
            "852/852 [==============================] - 2s 2ms/step - loss: 0.8982\n",
            "Epoch 44/200\n",
            "852/852 [==============================] - 2s 2ms/step - loss: 0.8880\n",
            "Epoch 45/200\n",
            "852/852 [==============================] - 1s 2ms/step - loss: 0.8780\n",
            "Epoch 46/200\n",
            "852/852 [==============================] - 1s 2ms/step - loss: 0.8681\n",
            "Epoch 47/200\n",
            "852/852 [==============================] - 2s 2ms/step - loss: 0.8583\n",
            "Epoch 48/200\n",
            "852/852 [==============================] - 1s 2ms/step - loss: 0.8488\n",
            "Epoch 49/200\n",
            "852/852 [==============================] - 1s 2ms/step - loss: 0.8393\n",
            "Epoch 50/200\n",
            "852/852 [==============================] - 1s 2ms/step - loss: 0.8300\n",
            "Epoch 51/200\n",
            "852/852 [==============================] - 1s 2ms/step - loss: 0.8209\n",
            "Epoch 52/200\n",
            "852/852 [==============================] - 1s 2ms/step - loss: 0.8119\n",
            "Epoch 53/200\n",
            "852/852 [==============================] - 1s 2ms/step - loss: 0.8028\n",
            "Epoch 54/200\n",
            "852/852 [==============================] - 1s 2ms/step - loss: 0.7941\n",
            "Epoch 55/200\n",
            "852/852 [==============================] - 1s 2ms/step - loss: 0.7854\n",
            "Epoch 56/200\n",
            "852/852 [==============================] - 1s 2ms/step - loss: 0.7768\n",
            "Epoch 57/200\n",
            "852/852 [==============================] - 1s 2ms/step - loss: 0.7683\n",
            "Epoch 58/200\n",
            "852/852 [==============================] - 1s 2ms/step - loss: 0.7600\n",
            "Epoch 59/200\n",
            "852/852 [==============================] - 1s 2ms/step - loss: 0.7518\n",
            "Epoch 60/200\n",
            "852/852 [==============================] - 1s 2ms/step - loss: 0.7437\n",
            "Epoch 61/200\n",
            "852/852 [==============================] - 1s 2ms/step - loss: 0.7356\n",
            "Epoch 62/200\n",
            "852/852 [==============================] - 1s 2ms/step - loss: 0.7276\n",
            "Epoch 63/200\n",
            "852/852 [==============================] - 1s 2ms/step - loss: 0.7197\n",
            "Epoch 64/200\n",
            "852/852 [==============================] - 1s 2ms/step - loss: 0.7118\n",
            "Epoch 65/200\n",
            "852/852 [==============================] - 1s 2ms/step - loss: 0.7042\n",
            "Epoch 66/200\n",
            "852/852 [==============================] - 1s 2ms/step - loss: 0.6964\n",
            "Epoch 67/200\n",
            "852/852 [==============================] - 1s 2ms/step - loss: 0.6890\n",
            "Epoch 68/200\n",
            "852/852 [==============================] - 1s 2ms/step - loss: 0.6814\n",
            "Epoch 69/200\n",
            "852/852 [==============================] - 1s 2ms/step - loss: 0.6739\n",
            "Epoch 70/200\n",
            "852/852 [==============================] - 1s 2ms/step - loss: 0.6665\n",
            "Epoch 71/200\n",
            "852/852 [==============================] - 1s 2ms/step - loss: 0.6592\n",
            "Epoch 72/200\n",
            "852/852 [==============================] - 1s 2ms/step - loss: 0.6520\n",
            "Epoch 73/200\n",
            "852/852 [==============================] - 1s 2ms/step - loss: 0.6448\n",
            "Epoch 74/200\n",
            "852/852 [==============================] - 1s 2ms/step - loss: 0.6376\n",
            "Epoch 75/200\n",
            "852/852 [==============================] - 1s 2ms/step - loss: 0.6306\n",
            "Epoch 76/200\n",
            "852/852 [==============================] - 1s 2ms/step - loss: 0.6229\n",
            "Epoch 77/200\n",
            "852/852 [==============================] - 1s 2ms/step - loss: 0.6163\n",
            "Epoch 78/200\n",
            "852/852 [==============================] - 1s 2ms/step - loss: 0.6095\n",
            "Epoch 79/200\n",
            "852/852 [==============================] - 1s 2ms/step - loss: 0.6020\n",
            "Epoch 80/200\n",
            "852/852 [==============================] - 1s 2ms/step - loss: 0.5956\n",
            "Epoch 81/200\n",
            "852/852 [==============================] - 1s 2ms/step - loss: 0.5885\n",
            "Epoch 82/200\n",
            "852/852 [==============================] - 1s 2ms/step - loss: 0.5816\n",
            "Epoch 83/200\n",
            "852/852 [==============================] - 1s 2ms/step - loss: 0.5754\n",
            "Epoch 84/200\n",
            "852/852 [==============================] - 1s 2ms/step - loss: 0.5683\n",
            "Epoch 85/200\n",
            "852/852 [==============================] - 1s 2ms/step - loss: 0.5617\n",
            "Epoch 86/200\n",
            "852/852 [==============================] - 1s 2ms/step - loss: 0.5552\n",
            "Epoch 87/200\n",
            "852/852 [==============================] - 1s 2ms/step - loss: 0.5487\n",
            "Epoch 88/200\n",
            "852/852 [==============================] - 1s 2ms/step - loss: 0.5423\n",
            "Epoch 89/200\n",
            "852/852 [==============================] - 1s 2ms/step - loss: 0.5359\n",
            "Epoch 90/200\n",
            "852/852 [==============================] - 1s 2ms/step - loss: 0.5296\n",
            "Epoch 91/200\n",
            "852/852 [==============================] - 1s 2ms/step - loss: 0.5233\n",
            "Epoch 92/200\n",
            "852/852 [==============================] - 1s 2ms/step - loss: 0.5171\n",
            "Epoch 93/200\n",
            "852/852 [==============================] - 1s 2ms/step - loss: 0.5109\n",
            "Epoch 94/200\n",
            "852/852 [==============================] - 1s 2ms/step - loss: 0.5048\n",
            "Epoch 95/200\n",
            "852/852 [==============================] - 1s 2ms/step - loss: 0.4988\n",
            "Epoch 96/200\n",
            "852/852 [==============================] - 1s 2ms/step - loss: 0.4929\n",
            "Epoch 97/200\n",
            "852/852 [==============================] - 1s 2ms/step - loss: 0.4870\n",
            "Epoch 98/200\n",
            "852/852 [==============================] - 1s 2ms/step - loss: 0.4812\n",
            "Epoch 99/200\n",
            "852/852 [==============================] - 1s 2ms/step - loss: 0.4755\n",
            "Epoch 100/200\n",
            "852/852 [==============================] - 1s 2ms/step - loss: 0.4701\n",
            "Epoch 101/200\n",
            "852/852 [==============================] - 1s 2ms/step - loss: 0.4645\n",
            "Epoch 102/200\n",
            "852/852 [==============================] - 1s 2ms/step - loss: 0.4588\n",
            "Epoch 103/200\n",
            "852/852 [==============================] - 1s 2ms/step - loss: 0.4533\n",
            "Epoch 104/200\n",
            "852/852 [==============================] - 1s 2ms/step - loss: 0.4478\n",
            "Epoch 105/200\n",
            "852/852 [==============================] - 1s 2ms/step - loss: 0.4425\n",
            "Epoch 106/200\n",
            "852/852 [==============================] - 1s 2ms/step - loss: 0.4373\n",
            "Epoch 107/200\n",
            "852/852 [==============================] - 1s 2ms/step - loss: 0.4320\n",
            "Epoch 108/200\n",
            "852/852 [==============================] - 1s 2ms/step - loss: 0.4270\n",
            "Epoch 109/200\n",
            "852/852 [==============================] - 1s 2ms/step - loss: 0.4219\n",
            "Epoch 110/200\n",
            "852/852 [==============================] - 1s 2ms/step - loss: 0.4168\n",
            "Epoch 111/200\n",
            "852/852 [==============================] - 1s 2ms/step - loss: 0.4119\n",
            "Epoch 112/200\n",
            "852/852 [==============================] - 1s 2ms/step - loss: 0.4069\n",
            "Epoch 113/200\n",
            "852/852 [==============================] - 1s 2ms/step - loss: 0.4021\n",
            "Epoch 114/200\n",
            "852/852 [==============================] - 1s 2ms/step - loss: 0.3973\n",
            "Epoch 115/200\n",
            "852/852 [==============================] - 1s 2ms/step - loss: 0.3927\n",
            "Epoch 116/200\n",
            "852/852 [==============================] - 2s 2ms/step - loss: 0.3882\n",
            "Epoch 117/200\n",
            "852/852 [==============================] - 1s 2ms/step - loss: 0.3838\n",
            "Epoch 118/200\n",
            "852/852 [==============================] - 1s 2ms/step - loss: 0.3794\n",
            "Epoch 119/200\n",
            "852/852 [==============================] - 2s 2ms/step - loss: 0.3751\n",
            "Epoch 120/200\n",
            "852/852 [==============================] - 1s 2ms/step - loss: 0.3709\n",
            "Epoch 121/200\n",
            "852/852 [==============================] - 1s 2ms/step - loss: 0.3667\n",
            "Epoch 122/200\n",
            "852/852 [==============================] - 2s 2ms/step - loss: 0.3628\n",
            "Epoch 123/200\n",
            "852/852 [==============================] - 2s 2ms/step - loss: 0.3590\n",
            "Epoch 124/200\n",
            "852/852 [==============================] - 1s 2ms/step - loss: 0.3554\n",
            "Epoch 125/200\n",
            "852/852 [==============================] - 1s 2ms/step - loss: 0.3515\n",
            "Epoch 126/200\n",
            "852/852 [==============================] - 1s 2ms/step - loss: 0.3476\n",
            "Epoch 127/200\n",
            "852/852 [==============================] - 1s 2ms/step - loss: 0.3439\n",
            "Epoch 128/200\n",
            "852/852 [==============================] - 1s 2ms/step - loss: 0.3402\n",
            "Epoch 129/200\n",
            "852/852 [==============================] - 2s 2ms/step - loss: 0.3362\n",
            "Epoch 130/200\n",
            "852/852 [==============================] - 1s 2ms/step - loss: 0.3322\n",
            "Epoch 131/200\n",
            "852/852 [==============================] - 2s 2ms/step - loss: 0.3287\n",
            "Epoch 132/200\n",
            "852/852 [==============================] - 1s 2ms/step - loss: 0.3253\n",
            "Epoch 133/200\n",
            "852/852 [==============================] - 1s 2ms/step - loss: 0.3221\n",
            "Epoch 134/200\n",
            "852/852 [==============================] - 1s 2ms/step - loss: 0.3189\n",
            "Epoch 135/200\n",
            "852/852 [==============================] - 1s 2ms/step - loss: 0.3157\n",
            "Epoch 136/200\n",
            "852/852 [==============================] - 1s 2ms/step - loss: 0.3126\n",
            "Epoch 137/200\n",
            "852/852 [==============================] - 1s 2ms/step - loss: 0.3094\n",
            "Epoch 138/200\n",
            "852/852 [==============================] - 1s 2ms/step - loss: 0.3063\n",
            "Epoch 139/200\n",
            "852/852 [==============================] - 1s 2ms/step - loss: 0.3033\n",
            "Epoch 140/200\n",
            "852/852 [==============================] - 1s 2ms/step - loss: 0.3004\n",
            "Epoch 141/200\n",
            "852/852 [==============================] - 1s 2ms/step - loss: 0.2975\n",
            "Epoch 142/200\n",
            "852/852 [==============================] - 2s 2ms/step - loss: 0.2947\n",
            "Epoch 143/200\n",
            "852/852 [==============================] - 1s 2ms/step - loss: 0.2918\n",
            "Epoch 144/200\n",
            "852/852 [==============================] - 1s 2ms/step - loss: 0.2890\n",
            "Epoch 145/200\n",
            "852/852 [==============================] - 1s 2ms/step - loss: 0.2863\n",
            "Epoch 146/200\n",
            "852/852 [==============================] - 2s 2ms/step - loss: 0.2837\n",
            "Epoch 147/200\n",
            "852/852 [==============================] - 2s 2ms/step - loss: 0.2812\n",
            "Epoch 148/200\n",
            "852/852 [==============================] - 1s 2ms/step - loss: 0.2786\n",
            "Epoch 149/200\n",
            "852/852 [==============================] - 1s 2ms/step - loss: 0.2761\n",
            "Epoch 150/200\n",
            "852/852 [==============================] - 1s 2ms/step - loss: 0.2736\n",
            "Epoch 151/200\n",
            "852/852 [==============================] - 2s 2ms/step - loss: 0.2712\n",
            "Epoch 152/200\n",
            "852/852 [==============================] - 2s 2ms/step - loss: 0.2688\n",
            "Epoch 153/200\n",
            "852/852 [==============================] - 2s 2ms/step - loss: 0.2665\n",
            "Epoch 154/200\n",
            "852/852 [==============================] - 2s 2ms/step - loss: 0.2641\n",
            "Epoch 155/200\n",
            "852/852 [==============================] - 2s 2ms/step - loss: 0.2620\n",
            "Epoch 156/200\n",
            "852/852 [==============================] - 2s 2ms/step - loss: 0.2597\n",
            "Epoch 157/200\n",
            "852/852 [==============================] - 2s 2ms/step - loss: 0.2575\n",
            "Epoch 158/200\n",
            "852/852 [==============================] - 1s 2ms/step - loss: 0.2554\n",
            "Epoch 159/200\n",
            "852/852 [==============================] - 1s 2ms/step - loss: 0.2534\n",
            "Epoch 160/200\n",
            "852/852 [==============================] - 2s 2ms/step - loss: 0.2514\n",
            "Epoch 161/200\n",
            "852/852 [==============================] - 1s 2ms/step - loss: 0.2494\n",
            "Epoch 162/200\n",
            "852/852 [==============================] - 1s 2ms/step - loss: 0.2474\n",
            "Epoch 163/200\n",
            "852/852 [==============================] - 2s 2ms/step - loss: 0.2454\n",
            "Epoch 164/200\n",
            "852/852 [==============================] - 2s 2ms/step - loss: 0.2435\n",
            "Epoch 165/200\n",
            "852/852 [==============================] - 1s 2ms/step - loss: 0.2417\n",
            "Epoch 166/200\n",
            "852/852 [==============================] - 2s 2ms/step - loss: 0.2399\n",
            "Epoch 167/200\n",
            "852/852 [==============================] - 2s 2ms/step - loss: 0.2381\n",
            "Epoch 168/200\n",
            "852/852 [==============================] - 1s 2ms/step - loss: 0.2364\n",
            "Epoch 169/200\n",
            "852/852 [==============================] - 1s 2ms/step - loss: 0.2346\n",
            "Epoch 170/200\n",
            "852/852 [==============================] - 2s 2ms/step - loss: 0.2329\n",
            "Epoch 171/200\n",
            "852/852 [==============================] - 2s 2ms/step - loss: 0.2313\n",
            "Epoch 172/200\n",
            "852/852 [==============================] - 2s 2ms/step - loss: 0.2296\n",
            "Epoch 173/200\n",
            "852/852 [==============================] - 2s 2ms/step - loss: 0.2281\n",
            "Epoch 174/200\n",
            "852/852 [==============================] - 1s 2ms/step - loss: 0.2265\n",
            "Epoch 175/200\n",
            "852/852 [==============================] - 1s 2ms/step - loss: 0.2250\n",
            "Epoch 176/200\n",
            "852/852 [==============================] - 2s 2ms/step - loss: 0.2234\n",
            "Epoch 177/200\n",
            "852/852 [==============================] - 2s 2ms/step - loss: 0.2220\n",
            "Epoch 178/200\n",
            "852/852 [==============================] - 2s 2ms/step - loss: 0.2205\n",
            "Epoch 179/200\n",
            "852/852 [==============================] - 2s 2ms/step - loss: 0.2191\n",
            "Epoch 180/200\n",
            "852/852 [==============================] - 1s 2ms/step - loss: 0.2177\n",
            "Epoch 181/200\n",
            "852/852 [==============================] - 1s 2ms/step - loss: 0.2163\n",
            "Epoch 182/200\n",
            "852/852 [==============================] - 1s 2ms/step - loss: 0.2150\n",
            "Epoch 183/200\n",
            "852/852 [==============================] - 2s 2ms/step - loss: 0.2137\n",
            "Epoch 184/200\n",
            "852/852 [==============================] - 1s 2ms/step - loss: 0.2125\n",
            "Epoch 185/200\n",
            "852/852 [==============================] - 1s 2ms/step - loss: 0.2112\n",
            "Epoch 186/200\n",
            "852/852 [==============================] - 1s 2ms/step - loss: 0.2101\n",
            "Epoch 187/200\n",
            "852/852 [==============================] - 2s 2ms/step - loss: 0.2088\n",
            "Epoch 188/200\n",
            "852/852 [==============================] - 2s 2ms/step - loss: 0.2076\n",
            "Epoch 189/200\n",
            "852/852 [==============================] - 1s 2ms/step - loss: 0.2064\n",
            "Epoch 190/200\n",
            "852/852 [==============================] - 2s 2ms/step - loss: 0.2053\n",
            "Epoch 191/200\n",
            "852/852 [==============================] - 1s 2ms/step - loss: 0.2042\n",
            "Epoch 192/200\n",
            "852/852 [==============================] - 2s 2ms/step - loss: 0.2031\n",
            "Epoch 193/200\n",
            "852/852 [==============================] - 2s 2ms/step - loss: 0.2020\n",
            "Epoch 194/200\n",
            "852/852 [==============================] - 2s 2ms/step - loss: 0.2008\n",
            "Epoch 195/200\n",
            "852/852 [==============================] - 1s 2ms/step - loss: 0.1998\n",
            "Epoch 196/200\n",
            "852/852 [==============================] - 1s 2ms/step - loss: 0.1988\n",
            "Epoch 197/200\n",
            "852/852 [==============================] - 2s 2ms/step - loss: 0.1978\n",
            "Epoch 198/200\n",
            "852/852 [==============================] - 2s 2ms/step - loss: 0.1969\n",
            "Epoch 199/200\n",
            "852/852 [==============================] - 2s 2ms/step - loss: 0.1959\n",
            "Epoch 200/200\n",
            "852/852 [==============================] - 1s 2ms/step - loss: 0.1950\n"
          ],
          "name": "stdout"
        }
      ]
    },
    {
      "cell_type": "code",
      "metadata": {
        "colab": {
          "base_uri": "https://localhost:8080/"
        },
        "id": "cnaYttmsqHLx",
        "outputId": "3e81f832-c452-4c82-dcde-9a023fc8ef0a"
      },
      "source": [
        "y_pred_test_lstm = model_lstm.predict(X_tst_t)\n",
        "y_train_pred_lstm = model_lstm.predict(X_tr_t)\n",
        "print(\"The R2 score on the Train set is:\\t{:0.3f}\".format(r2_score(y_train, y_train_pred_lstm)))\n",
        "r2_train = r2_score(y_train, y_train_pred_lstm)\n",
        "\n",
        "print(\"The R2 score on the Test set is:\\t{:0.3f}\".format(r2_score(y_test, y_pred_test_lstm)))\n",
        "r2_test = r2_score(y_test, y_pred_test_lstm)"
      ],
      "execution_count": 39,
      "outputs": [
        {
          "output_type": "stream",
          "text": [
            "The R2 score on the Train set is:\t0.997\n",
            "The R2 score on the Test set is:\t0.792\n"
          ],
          "name": "stdout"
        }
      ]
    },
    {
      "cell_type": "code",
      "metadata": {
        "colab": {
          "base_uri": "https://localhost:8080/"
        },
        "id": "VnAM13GcqJ4V",
        "outputId": "d2dc1397-5385-4f26-d9fc-bc8d8aa3c44f"
      },
      "source": [
        "score_lstm= model_lstm.evaluate(X_tst_t, y_test, batch_size=1)"
      ],
      "execution_count": 40,
      "outputs": [
        {
          "output_type": "stream",
          "text": [
            "680/680 [==============================] - 1s 813us/step - loss: 149.2677\n"
          ],
          "name": "stdout"
        }
      ]
    },
    {
      "cell_type": "code",
      "metadata": {
        "colab": {
          "base_uri": "https://localhost:8080/"
        },
        "id": "m9cL5DKYqLja",
        "outputId": "e2cc0999-6d22-4bc2-d119-ad2e38f85d0b"
      },
      "source": [
        "print('LSTM: %f'%score_lstm)"
      ],
      "execution_count": 41,
      "outputs": [
        {
          "output_type": "stream",
          "text": [
            "LSTM: 149.267746\n"
          ],
          "name": "stdout"
        }
      ]
    },
    {
      "cell_type": "code",
      "metadata": {
        "id": "Xta0zJPVqNfR"
      },
      "source": [
        "y_pred_test_LSTM = model_lstm.predict(X_tst_t)"
      ],
      "execution_count": 42,
      "outputs": []
    },
    {
      "cell_type": "code",
      "metadata": {
        "colab": {
          "base_uri": "https://localhost:8080/",
          "height": 295
        },
        "id": "QsvMNnksqPu5",
        "outputId": "50cf7211-f659-4105-f627-c2d9b11dc2c8"
      },
      "source": [
        "plt.plot(y_test, label='True')\n",
        "plt.plot(y_pred_test_LSTM, label='LSTM')\n",
        "plt.title(\"LSTM's_Prediction\")\n",
        "plt.xlabel('Observation')\n",
        "plt.ylabel('INR_Scaled')\n",
        "plt.legend()\n",
        "plt.show()"
      ],
      "execution_count": 43,
      "outputs": [
        {
          "output_type": "display_data",
          "data": {
            "image/png": "[encoded data removed]",
            "text/plain": [
              "<Figure size 432x288 with 1 Axes>"
            ]
          },
          "metadata": {
            "tags": [],
            "needs_background": "light"
          }
        }
      ]
    }
  ]
}
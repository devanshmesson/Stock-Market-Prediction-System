import requests      
  
def Headlines(): 
    # using keyword AAPL, to collect all Apple related stock news
    #using API provided by newsapi.org
    url = ('https://newsapi.org/v2/everything?'
       'q=AAPL&'
       'from=2020-01-29&'
       'sortBy=popularity&'
       'apiKey=7cb80385256e45589c40bfc9b5241e6b')
  
    open_bbc_page = requests.get(url).json() 
  
    article = open_bbc_page["articles"] 
    
    results = [] 
      
    for ar in article: 
        results.append(ar["title"]) 
          
    for i in range(len(results)):  
        print(i + 1, results[i])                  
        
if __name__ == '__main__': 
    Headlines()

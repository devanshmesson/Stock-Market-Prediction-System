{
 "cells": [
  {
   "cell_type": "code",
   "execution_count": 3,
   "metadata": {},
   "outputs": [
    {
     "name": "stdout",
     "output_type": "stream",
     "text": [
      "1 Apple Now Worth More Than Germany's Entire DAX Stock Index\n",
      "2 Apple made a small change to the way it introduced its new iPhones this year, and its record-breaking holiday quarter proved it was a runaway success (AAPL)\n",
      "3 Apple is reportedly preparing to launch a new product called 'AirTags,' which will attach to items like keys or purses to help you find them if they're lost or missing (AAPL)\n",
      "4 Dow Jones Today Propped By Apple, Dow, Boeing; Chips Stocks Mixed, The Fed's Coronavirus Question - Investor's Business Daily\n",
      "5 Analysts unsurprisingly impressed by AAPL earnings, many boost target prices\n",
      "6 Market Snapshot: Stock futures edge higher as earnings overshadow coronavirus worries\n",
      "7 London Markets: Losses for oil companies, Diageo weigh on FTSE 100\n",
      "8 The Ratings Game: Analysts divided on how much further Apple shares can climb after ‘blowout results’\n",
      "9 Apple may have had blowout earnings, but these risks to the stock have emerged\n",
      "10 MarketWatch First Take: Apple’s iPhone didn’t need 5G for a mind-boggling rebound\n",
      "11 Deep Dive: A hidden stock tip in Apple earnings? Watch these semiconductor companies, analyst says\n",
      "12 Cowen drives AAPL target to $370 on iPhone return to growth\n",
      "13 Tout va bien pour Apple : l’iPhone, les AirPods et les services cartonnent\n",
      "14 Apple Inc. (AAPL) Q1 2020 Earnings Call Transcript\n",
      "15 Apple Shatters Records in Blowout Fourth Quarter\n",
      "16 Apple blamed China's coronavirus for a 'wider-than-usual' $4 billion range in its revenue forecast. But the weird thing is, a $4 billion range is not actually unusual for Apple. (AAPL)\n",
      "17 Apple’s Stunning Results Suggest The Stock Is Still Too Cheap\n",
      "18 Il valore di Apple supera quello dell’intero indice DAX tedesco\n",
      "19 Dow Jones Futures: Apple, AMD, Xilinx Earnings Fuel Big Chip Moves After Stock Market Rally Rebounds From Coronavirus Sell-Off - Investor's Business Daily\n",
      "20 Apple Is Either A Hardware Or A Consumer Company, If It's The Former We're Going Lower\n"
     ]
    }
   ],
   "source": [
    "import requests      \n",
    "  \n",
    "def Headlines(): \n",
    "    # using keyword AAPL, to collect all Apple related stock news\n",
    "    #using API provided by newsapi.org\n",
    "    url = ('https://newsapi.org/v2/everything?'\n",
    "       'q=AAPL&'\n",
    "       'from=2020-01-29&'\n",
    "       'sortBy=popularity&'\n",
    "       'apiKey=7cb80385256e45589c40bfc9b5241e6b')\n",
    "  \n",
    "    open_bbc_page = requests.get(url).json() \n",
    "  \n",
    "    article = open_bbc_page[\"articles\"] \n",
    "    \n",
    "    results = [] \n",
    "      \n",
    "    for ar in article: \n",
    "        results.append(ar[\"title\"]) \n",
    "          \n",
    "    for i in range(len(results)):  \n",
    "        print(i + 1, results[i])                  \n",
    "        \n",
    "if __name__ == '__main__': \n",
    "    Headlines()  "
   ]
  },
  {
   "cell_type": "code",
   "execution_count": null,
   "metadata": {},
   "outputs": [],
   "source": []
  }
 ],
 "metadata": {
  "kernelspec": {
   "display_name": "Python 3",
   "language": "python",
   "name": "python3"
  },
  "language_info": {
   "codemirror_mode": {
    "name": "ipython",
    "version": 3
   },
   "file_extension": ".py",
   "mimetype": "text/x-python",
   "name": "python",
   "nbconvert_exporter": "python",
   "pygments_lexer": "ipython3",
   "version": "3.7.3"
  }
 },
 "nbformat": 4,
 "nbformat_minor": 2
}
